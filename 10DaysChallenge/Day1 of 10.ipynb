{
 "cells": [
  {
   "cell_type": "markdown",
   "id": "931dca7d",
   "metadata": {},
   "source": [
    "# Data Loading and Manipulation"
   ]
  },
  {
   "cell_type": "markdown",
   "id": "6fccf0ae",
   "metadata": {},
   "source": [
    "## Kindly load the las file of F02-1_logs.las well from the data folder\n",
    "## Answer the following questions:\n",
    "\n",
    ">1. How many well logs in the file \n",
    "2. How many data points (observations) in the welllogs.\n",
    "3. Is there any null values? how much (%)/ well-log\n",
    "4. Is there a relationship between DT and RHOB? "
   ]
  },
  {
   "cell_type": "markdown",
   "id": "9ae3e8e0",
   "metadata": {},
   "source": [
    "### You can use the following liberaries for your assignment:\n",
    "> Numpy, Pandas, Matplotlib, seaborn, LASIO"
   ]
  },
  {
   "cell_type": "code",
   "execution_count": null,
   "id": "12944871",
   "metadata": {},
   "outputs": [],
   "source": []
  }
 ],
 "metadata": {
  "kernelspec": {
   "display_name": "Python 3",
   "language": "python",
   "name": "python3"
  },
  "language_info": {
   "codemirror_mode": {
    "name": "ipython",
    "version": 3
   },
   "file_extension": ".py",
   "mimetype": "text/x-python",
   "name": "python",
   "nbconvert_exporter": "python",
   "pygments_lexer": "ipython3",
   "version": "3.9.5"
  }
 },
 "nbformat": 4,
 "nbformat_minor": 5
}
