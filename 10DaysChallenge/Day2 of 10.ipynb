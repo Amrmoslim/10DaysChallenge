{
 "cells": [
  {
   "cell_type": "markdown",
   "id": "931dca7d",
   "metadata": {},
   "source": [
    "# Day 2 : Data Loading and Manipulation"
   ]
  },
  {
   "cell_type": "markdown",
   "id": "9ae3e8e0",
   "metadata": {},
   "source": [
    "### You can use the following liberaries for your assignment:\n",
    "> Numpy, Pandas, Matplotlib, seaborn, LASIO"
   ]
  },
  {
   "cell_type": "markdown",
   "id": "6fccf0ae",
   "metadata": {},
   "source": [
    "## Kindly load the las file of F02-1_logs.las well from the data folder\n",
    "## Perform the below Tasks:\n",
    "\n",
    ">1. Plot histogram for every well-log in the las file \n",
    "2. Calculate the 5 points statistics for every well-log (min, Max and Percentiles[0.25,0.5,0.75])\n",
    "3. Using **np.log()** transform the well logs into log of values \n",
    "4. Plot histogram for every well-log after transforming them   "
   ]
  }
 ],
 "metadata": {
  "kernelspec": {
   "display_name": "Python 3",
   "language": "python",
   "name": "python3"
  },
  "language_info": {
   "codemirror_mode": {
    "name": "ipython",
    "version": 3
   },
   "file_extension": ".py",
   "mimetype": "text/x-python",
   "name": "python",
   "nbconvert_exporter": "python",
   "pygments_lexer": "ipython3",
   "version": "3.9.5"
  }
 },
 "nbformat": 4,
 "nbformat_minor": 5
}
